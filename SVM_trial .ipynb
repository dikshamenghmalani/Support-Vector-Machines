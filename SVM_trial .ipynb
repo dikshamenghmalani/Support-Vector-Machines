{
 "cells": [
  {
   "cell_type": "markdown",
   "metadata": {},
   "source": [
    "# Importing the necessary libraries"
   ]
  },
  {
   "cell_type": "code",
   "execution_count": 18,
   "metadata": {},
   "outputs": [
    {
     "name": "stdout",
     "output_type": "stream",
     "text": [
      "Using matplotlib backend: Qt5Agg\n"
     ]
    }
   ],
   "source": [
    "import time\n",
    "import numpy as np\n",
    "import matplotlib.pyplot as plt\n",
    "%matplotlib"
   ]
  },
  {
   "cell_type": "markdown",
   "metadata": {},
   "source": [
    "# Initialize w with random value \n",
    "___"
   ]
  },
  {
   "cell_type": "code",
   "execution_count": 19,
   "metadata": {},
   "outputs": [],
   "source": [
    " w=np.array([[1],[-0.001]])"
   ]
  },
  {
   "cell_type": "code",
   "execution_count": 23,
   "metadata": {},
   "outputs": [],
   "source": [
    "def plot(x,y,w,show= None ,curr_x1=None, curr_x2= None ,correct= None):\n",
    "    plt.clf()\n",
    "    if(show!= None):\n",
    "        plt.title('Press any key if done else click')\n",
    "    plt.xlim((-1,11))\n",
    "    plt.ylim((-1,11))\n",
    "    max_coordinates = np.amax(x_original,axis=0)\n",
    "    #c_dict= {-1:'red',1:'blue'}\n",
    "    #plt.scatter(x[:,0], x[:,1])\n",
    "   \n",
    "    for count,val in enumerate(x_original):\n",
    "        if y[0][count]==-1:\n",
    "            plt.scatter(val[0],val[1],color='red')\n",
    "        else:\n",
    "            plt.scatter(val[0],val[1],color='blue')\n",
    "            \n",
    "    if(correct == True and curr_x1!= None and curr_x2 != None):       \n",
    "        plt.scatter(curr_x1,curr_x2,s = 100, color = 'green')\n",
    "    elif(correct == False and curr_x1!= None and curr_x2 != None):\n",
    "        plt.scatter(curr_x1,curr_x2,s = 100, color = 'white',marker = 'x')     \n",
    "            \n",
    "        \n",
    "    m = -w[0]/w[1]\n",
    "    #max_coordinates = np.amax(x_original,axis=0)\n",
    "    x_line= [[0.,0.],[10,10]]\n",
    "    #print(x_line)\n",
    "    y_line = m*x_line\n",
    "    plt.plot(x_line,y_line)\n",
    "    plt.show()"
   ]
  },
  {
   "cell_type": "markdown",
   "metadata": {},
   "source": [
    "# Loading the dataset\n",
    "---"
   ]
  },
  {
   "cell_type": "code",
   "execution_count": 24,
   "metadata": {},
   "outputs": [],
   "source": [
    "def tellme(s):\n",
    "    print(s)\n",
    "    plt.title(s, fontsize=16)\n",
    "    plt.draw()"
   ]
  },
  {
   "cell_type": "code",
   "execution_count": null,
   "metadata": {},
   "outputs": [
    {
     "name": "stdout",
     "output_type": "stream",
     "text": [
      "click to begin\n",
      "Select Class 1 points, press enter when done\n",
      "click to begin to Class 2 points,press enter when done\n",
      "Happy? Key click for yes, mouse click for no\n"
     ]
    }
   ],
   "source": [
    "plt.clf()\n",
    "plt.setp(plt.gca(), autoscale_on=False)\n",
    "tellme('click to begin')\n",
    "\n",
    "plt.waitforbuttonpress()\n",
    "\n",
    "while True:\n",
    "    plt.clf()\n",
    "    plt.rcParams['figure.figsize'] = (12,8)\n",
    "    plt.xlim((0,10))\n",
    "    plt.ylim((0,10))\n",
    "    pts = []\n",
    "    pts1 = []\n",
    "    y = []\n",
    "    tellme('Select Class 1 points, press enter when done')\n",
    "    pts = np.asarray(plt.ginput(-1, timeout=-1))\n",
    "      \n",
    "    tellme('click to begin to Class 2 points,press enter when done')\n",
    "    plt.waitforbuttonpress()\n",
    "    pts1 = np.asarray(plt.ginput(-1, timeout=-1))\n",
    "    y1 = np.ones((pts.shape[0]))\n",
    "    y2 = np.empty((pts1.shape[0]))\n",
    "    y2.fill(-1)\n",
    "    y = np.append(y1,y2)\n",
    "    y=y.reshape(1,y.shape[0])\n",
    "    x_original = np.concatenate((pts,pts1))\n",
    "    x = x_original.T\n",
    "    tellme('Happy? Key click for yes, mouse click for no')\n",
    "    plot(x_original,y,w,show=1)\n",
    "    if plt.waitforbuttonpress():\n",
    "        break"
   ]
  },
  {
   "cell_type": "markdown",
   "metadata": {},
   "source": [
    "# Calculate the Cost Function\n",
    "___"
   ]
  },
  {
   "cell_type": "markdown",
   "metadata": {},
   "source": [
    "Our objective is to minimize the cost funtion\n",
    "\n",
    "$$ J(w) = \\frac{1}{2}||w^{2}|| +\n",
    "\\frac{C}{N} \\sum_{i = 1}^m (max (1- y^{(i)} (w x^{(i)}+ b), 0))$$\n"
   ]
  },
  {
   "cell_type": "code",
   "execution_count": 6,
   "metadata": {},
   "outputs": [],
   "source": [
    "def cost_function(x,y,w,C):\n",
    "    N = y.shape[1]\n",
    "    regularization_loss = 0.5*np.linalg.norm(w)\n",
    "    hinge_loss = (C/N) * np.sum(np.maximum(1- y*np.dot(w.T,x),0))\n",
    "    cost = regularization_loss + hinge_loss\n",
    "    return cost"
   ]
  },
  {
   "cell_type": "code",
   "execution_count": 7,
   "metadata": {},
   "outputs": [
    {
     "data": {
      "text/plain": [
       "array([[ 0.        ,  0.        ,  0.12096516,  0.21296993,  0.19397414,\n",
       "         0.45430879,  0.45346242,  0.        ,  0.        ,  0.        ,\n",
       "         0.44443381,  0.48280001,  0.        ,  0.        ,  0.        ,\n",
       "         0.        ,  0.        ,  0.        ,  0.        ,  0.        ,\n",
       "         0.        ,  0.        ,  0.        ,  0.13122865,  0.17731428,\n",
       "         0.92439202,  0.        ,  0.        ,  0.        ,  0.        ,\n",
       "        10.2900114 ,  9.44430559,  8.53182559,  9.61481384, 10.56054911,\n",
       "        10.60200944,  9.86887206,  9.43855641,  9.99551961,  9.94072941,\n",
       "        10.6120093 , 10.68683591,  8.58676841,  8.08952596,  8.75390504,\n",
       "         8.75390504,  9.25173024,  8.98857897,  9.33815233,  9.92369   ,\n",
       "        10.58306915, 10.3138357 , 10.29935421, 10.37603112, 10.80554202,\n",
       "         9.87949629]])"
      ]
     },
     "execution_count": 7,
     "metadata": {},
     "output_type": "execute_result"
    }
   ],
   "source": [
    "np.maximum(1-y*np.dot(w.T,x),0)"
   ]
  },
  {
   "cell_type": "code",
   "execution_count": 8,
   "metadata": {},
   "outputs": [
    {
     "data": {
      "text/plain": [
       "4.591526274544708"
      ]
     },
     "execution_count": 8,
     "metadata": {},
     "output_type": "execute_result"
    }
   ],
   "source": [
    "np.sum(np.maximum(1-y*np.dot(w.T,x),0))/y.shape[1]"
   ]
  },
  {
   "cell_type": "code",
   "execution_count": 9,
   "metadata": {},
   "outputs": [
    {
     "data": {
      "text/plain": [
       "4592.026274794708"
      ]
     },
     "execution_count": 9,
     "metadata": {},
     "output_type": "execute_result"
    }
   ],
   "source": [
    "cost_function(x,y,w,1000)"
   ]
  },
  {
   "cell_type": "markdown",
   "metadata": {},
   "source": [
    "# Calculate the grads\n",
    "___"
   ]
  },
  {
   "cell_type": "code",
   "execution_count": 10,
   "metadata": {},
   "outputs": [
    {
     "data": {
      "text/plain": [
       "array([[ 1.   ],\n",
       "       [-0.001]])"
      ]
     },
     "execution_count": 10,
     "metadata": {},
     "output_type": "execute_result"
    }
   ],
   "source": [
    "w"
   ]
  },
  {
   "cell_type": "code",
   "execution_count": 11,
   "metadata": {
    "scrolled": true
   },
   "outputs": [],
   "source": [
    "plot(x_original,y,w)"
   ]
  },
  {
   "cell_type": "code",
   "execution_count": 12,
   "metadata": {},
   "outputs": [],
   "source": [
    "def grads(x,y,w,C):\n",
    "    N = y.shape[1]\n",
    "    dw = np.zeros_like(w)\n",
    "    \n",
    "    distances = 1- (y*np.dot(w.T,x))\n",
    "    \n",
    "    for index, d in enumerate(distances[0]):\n",
    "        \n",
    "        if(max(d,0) == 0):\n",
    "            dwi= w\n",
    "            \n",
    "        else:\n",
    "            xi= [[x[0][index]], [x[1][index]]]\n",
    "            yi = y[0][index]\n",
    "            \n",
    "            dwi= w - (C * np.multiply(yi , xi))\n",
    "        dw = dw+dwi\n",
    "                     \n",
    "    assert(dw.shape == w.shape)\n",
    "    return dw"
   ]
  },
  {
   "cell_type": "code",
   "execution_count": 13,
   "metadata": {
    "scrolled": false
   },
   "outputs": [
    {
     "name": "stdout",
     "output_type": "stream",
     "text": [
      "Initial cost 4592.026274794708\n",
      "Cost after 0 iteration 3501.8273586415376\n",
      "Cost after 100 iteration 1.9358316372919142\n",
      "Cost after 200 iteration 1.751525263555998\n",
      "Cost after 300 iteration 1.5847663039367363\n",
      "Cost after 400 iteration 1.4338841068123767\n",
      "Cost after 500 iteration 1.2973670797149928\n",
      "Cost after 600 iteration 1.1738475456499708\n",
      "Cost after 700 iteration 1.0620880412127944\n",
      "Cost after 800 iteration 0.9609689192327182\n",
      "Cost after 900 iteration 0.8694771317421115\n",
      "Cost after 1000 iteration 0.7866960808952143\n",
      "Cost after 1100 iteration 0.7117964361591212\n",
      "Cost after 1200 iteration 0.6575042076560245\n",
      "Cost after 1300 iteration 0.5949046437813921\n",
      "Cost after 1400 iteration 0.5382650499748819\n",
      "Cost after 1500 iteration 0.4870179902830411\n",
      "Cost after 1600 iteration 0.44065005311119637\n",
      "Cost after 1700 iteration 0.39869670768024945\n",
      "Cost after 1800 iteration 0.36073765018917986\n",
      "Cost after 1900 iteration 0.3263925930594221\n"
     ]
    }
   ],
   "source": [
    "steps = 2000\n",
    "lr = 0.001\n",
    "c = 1000\n",
    "N = y.shape[1]\n",
    "prev = cost_function(x,y,w,c)\n",
    "print('Initial cost', cost_function(x,y,w,c))\n",
    "for step in range(steps):\n",
    "    w = w- lr/N*grads(x,y,w,c)\n",
    "    if(step %100 == 0):\n",
    "        print('Cost after',step,'iteration',cost_function(x,y,w,c))\n",
    "        '''\n",
    "        if(cost_function(x,y,w,c)>prev):\n",
    "            break\n",
    "        else:\n",
    "            prev = cost_function(x,y,w,c)\n",
    "        #plot(x,y,w)\n",
    "        '''"
   ]
  },
  {
   "cell_type": "code",
   "execution_count": 14,
   "metadata": {},
   "outputs": [
    {
     "data": {
      "text/plain": [
       "array([[-0.41661252],\n",
       "       [ 0.4195025 ]])"
      ]
     },
     "execution_count": 14,
     "metadata": {},
     "output_type": "execute_result"
    }
   ],
   "source": [
    "w"
   ]
  },
  {
   "cell_type": "code",
   "execution_count": 15,
   "metadata": {},
   "outputs": [],
   "source": [
    "plot(x,y,w)"
   ]
  },
  {
   "cell_type": "code",
   "execution_count": 16,
   "metadata": {},
   "outputs": [
    {
     "data": {
      "text/plain": [
       "array([[ 2.31778207,  2.01135418,  3.01242757,  2.17853453,  2.65906574,\n",
       "         2.02904195,  1.67398517,  1.7383031 ,  2.56931602,  3.32209722,\n",
       "         3.51933731,  2.71543117,  1.83209068,  2.57669091,  2.84966667,\n",
       "         2.51339254,  2.90197678,  3.24230124,  2.84067963,  2.36824907,\n",
       "         1.6798736 ,  1.81463386,  1.42516822,  1.68510911,  1.3030862 ,\n",
       "         2.07951395,  1.32392294,  1.81395597,  2.13785066,  1.96890752,\n",
       "        -2.05006303, -2.14547274, -2.39332298, -3.26317667, -2.88381043,\n",
       "        -3.37789877, -2.81661236, -2.55011513, -2.43326362, -1.98014048,\n",
       "        -1.93998884, -2.34912601, -2.91047276, -2.73238944, -2.61377015,\n",
       "        -2.61377015, -3.0363188 , -2.48476017, -2.67691539, -3.28137672,\n",
       "        -3.88171239, -3.59510169, -3.15295683, -1.52186214, -1.45076439,\n",
       "        -1.64062957]])"
      ]
     },
     "execution_count": 16,
     "metadata": {},
     "output_type": "execute_result"
    }
   ],
   "source": [
    "np.dot(w.T,x)"
   ]
  },
  {
   "cell_type": "code",
   "execution_count": 17,
   "metadata": {},
   "outputs": [
    {
     "data": {
      "text/plain": [
       "array([[1.82795699, 1.59946237, 0.88709677, 0.79301075, 0.81317204,\n",
       "        0.55107527, 0.55107527, 1.27688172, 2.78897849, 1.13575269,\n",
       "        0.56451613, 0.52419355, 2.37903226, 1.29032258, 1.96236559,\n",
       "        3.10483871, 2.31182796, 1.59274194, 1.59274194, 2.41935484,\n",
       "        1.79435484, 1.3172043 , 1.52553763, 0.87365591, 0.8266129 ,\n",
       "        0.08064516, 3.86424731, 4.46236559, 3.62903226, 3.26612903,\n",
       "        9.29435484, 8.44758065, 7.53360215, 8.6155914 , 9.56317204,\n",
       "        9.60349462, 8.87096774, 8.44086022, 8.99865591, 8.94489247,\n",
       "        9.61693548, 9.69086022, 7.58736559, 7.09005376, 7.75537634,\n",
       "        7.75537634, 8.25268817, 7.9905914 , 8.34005376, 8.92473118,\n",
       "        9.58333333, 9.31451613, 9.30107527, 9.38172043, 9.81182796,\n",
       "        8.8844086 ],\n",
       "       [7.34043734, 6.38306138, 8.06193806, 5.98068598, 7.14618715,\n",
       "        5.38406038, 4.53768454, 5.41181041, 8.89443889, 9.04706405,\n",
       "        8.94993895, 6.99356199, 6.72993673, 7.42368742, 8.74181374,\n",
       "        9.07481407, 9.21356421, 9.31068931, 8.35331335, 8.04806305,\n",
       "        5.78643579, 5.63381063, 4.91230991, 4.88455988, 3.92718393,\n",
       "        5.03718504, 6.99356199, 8.75568876, 8.7001887 , 7.93706294,\n",
       "        4.34343434, 3.27505828, 1.77655678, 0.77755578, 2.62293262,\n",
       "        1.48518149, 2.0956821 , 2.3038073 , 3.13630814, 4.16305916,\n",
       "        4.92618493, 4.02430902, 0.5971806 , 0.52780553, 1.47130647,\n",
       "        1.47130647, 0.95793096, 2.01243201, 1.9014319 , 1.04118104,\n",
       "        0.26418026, 0.68043068, 1.72105672, 5.68931069, 6.28593629,\n",
       "        4.91230991]])"
      ]
     },
     "execution_count": 17,
     "metadata": {},
     "output_type": "execute_result"
    }
   ],
   "source": [
    "x"
   ]
  },
  {
   "cell_type": "code",
   "execution_count": null,
   "metadata": {},
   "outputs": [],
   "source": []
  }
 ],
 "metadata": {
  "kernelspec": {
   "display_name": "Python 3",
   "language": "python",
   "name": "python3"
  },
  "language_info": {
   "codemirror_mode": {
    "name": "ipython",
    "version": 3
   },
   "file_extension": ".py",
   "mimetype": "text/x-python",
   "name": "python",
   "nbconvert_exporter": "python",
   "pygments_lexer": "ipython3",
   "version": "3.7.6"
  }
 },
 "nbformat": 4,
 "nbformat_minor": 4
}
