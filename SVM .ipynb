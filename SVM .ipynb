{
 "cells": [
  {
   "cell_type": "code",
   "execution_count": 1,
   "metadata": {},
   "outputs": [],
   "source": [
    "import numpy as np\n",
    "import matplotlib.pyplot as plt\n",
    "%matplotlib inline"
   ]
  },
  {
   "cell_type": "code",
   "execution_count": 2,
   "metadata": {},
   "outputs": [],
   "source": [
    "x_original = np.array([[2,1],[1,2],[2,4],[3,2],[6,4],[5,3],[5,5],[3,4],[2,6],[4,1]])\n",
    "y = np.array([[-1,1,1,-1,-1,-1,1,1,1,-1]])\n",
    "x = x_original.T"
   ]
  },
  {
   "cell_type": "code",
   "execution_count": 3,
   "metadata": {},
   "outputs": [],
   "source": [
    " w=np.array([[1],[-0.001]])"
   ]
  },
  {
   "cell_type": "code",
   "execution_count": 4,
   "metadata": {
    "scrolled": false
   },
   "outputs": [],
   "source": [
    "def plot(x,y,w,curr_x1,curr_x2,correct):\n",
    "    max_coordinates = np.amax(x_original,axis=0)\n",
    "    plt.xlim= ((-max_coordinates[0]//2,max_coordinates[0]+2))\n",
    "    plt.ylim((-max_coordinates[1]//2,max_coordinates[1]+2))\n",
    "    \n",
    "    for count,val in enumerate(x_original):\n",
    "        if y[0][count]==-1:\n",
    "            plt.scatter(val[0],val[1],color='red')\n",
    "        else:\n",
    "            plt.scatter(val[0],val[1],color='blue')\n",
    "    if(correct == True):       \n",
    "        plt.scatter(curr_x1,curr_x2,s = 100, color = 'green')\n",
    "    else:\n",
    "        plt.scatter(curr_x1,curr_x2,s = 100, color = 'white',marker = 'x')     \n",
    "            \n",
    "        \n",
    "    m = -w[0]/w[1]\n",
    "    #max_coordinates = np.amax(x_original,axis=0)\n",
    "    x_line= [[0.,0.],max_coordinates]\n",
    "    print(x_line)\n",
    "    y_line = m*x_line\n",
    "    plt.plot(x_line,y_line)\n",
    "    plt.show()"
   ]
  },
  {
   "cell_type": "markdown",
   "metadata": {},
   "source": [
    "# Calculate Cost Funtion\n",
    "___"
   ]
  },
  {
   "cell_type": "markdown",
   "metadata": {},
   "source": [
    "Our objective is to minimize the cost funtion\n",
    "\n",
    "$$ J(w) = \\frac{1}{2}||w^{2}|| +\n",
    "\\frac{C}{N} \\sum_{i = 1}^m (max (1- y^{(i)} (w x^{(i)}+ b), 0))$$\n"
   ]
  },
  {
   "cell_type": "code",
   "execution_count": 5,
   "metadata": {},
   "outputs": [],
   "source": [
    "def cost_function(x,y,w,C):\n",
    "    N = y.shape[1]\n",
    "    regularization_loss = 0.5*np.linalg.norm(w)\n",
    "    hinge_loss = (C/N) * np.sum(np.maximum(1- y*np.dot(w.T,x),0))\n",
    "    cost = regularization_loss + hinge_loss\n",
    "    return cost"
   ]
  },
  {
   "cell_type": "code",
   "execution_count": 6,
   "metadata": {},
   "outputs": [
    {
     "data": {
      "text/plain": [
       "array([[2.999e+00, 2.000e-03, 0.000e+00, 3.998e+00, 6.996e+00, 5.997e+00,\n",
       "        0.000e+00, 0.000e+00, 0.000e+00, 4.999e+00]])"
      ]
     },
     "execution_count": 6,
     "metadata": {},
     "output_type": "execute_result"
    }
   ],
   "source": [
    "np.maximum(1-y*np.dot(w.T,x),0)"
   ]
  },
  {
   "cell_type": "code",
   "execution_count": 7,
   "metadata": {},
   "outputs": [
    {
     "data": {
      "text/plain": [
       "2.4991"
      ]
     },
     "execution_count": 7,
     "metadata": {},
     "output_type": "execute_result"
    }
   ],
   "source": [
    "np.sum(np.maximum(1-y*np.dot(w.T,x),0))/y.shape[1]"
   ]
  },
  {
   "cell_type": "code",
   "execution_count": 8,
   "metadata": {},
   "outputs": [
    {
     "data": {
      "text/plain": [
       "2499.60000025"
      ]
     },
     "execution_count": 8,
     "metadata": {},
     "output_type": "execute_result"
    }
   ],
   "source": [
    "cost_function(x,y,w,1000)"
   ]
  },
  {
   "cell_type": "markdown",
   "metadata": {},
   "source": [
    "# Calculate the grads\n",
    "___"
   ]
  },
  {
   "cell_type": "code",
   "execution_count": 9,
   "metadata": {},
   "outputs": [
    {
     "name": "stdout",
     "output_type": "stream",
     "text": [
      "[[0.0, 0.0], array([6, 6])]\n"
     ]
    },
    {
     "data": {
      "image/png": "[encoded data removed]",
      "text/plain": [
       "<Figure size 432x288 with 1 Axes>"
      ]
     },
     "metadata": {
      "needs_background": "light"
     },
     "output_type": "display_data"
    }
   ],
   "source": [
    "plot(x_original,y,w,0,0,True)"
   ]
  },
  {
   "cell_type": "code",
   "execution_count": 15,
   "metadata": {},
   "outputs": [],
   "source": [
    "def grads(x,y,w,C):\n",
    "    N = y.shape[1]\n",
    "    dw = np.zeros_like(w)\n",
    "    \n",
    "    distances = 1- (y*np.dot(w.T,x))\n",
    "    \n",
    "    for index, d in enumerate(distances[0]):\n",
    "        \n",
    "        if(max(d,0) == 0):\n",
    "            dwi= w\n",
    "            \n",
    "        else:\n",
    "            xi= [[x[0][index]], [x[1][index]]]\n",
    "            yi = y[0][index]\n",
    "            \n",
    "            dwi= w - (C * np.multiply(yi , xi))\n",
    "        dw = dw+dwi\n",
    "                      \n",
    "    assert(dw.shape == w.shape)\n",
    "    return dw/N"
   ]
  },
  {
   "cell_type": "code",
   "execution_count": 16,
   "metadata": {},
   "outputs": [
    {
     "name": "stdout",
     "output_type": "stream",
     "text": [
      "Initial cost 2499.60000025\n",
      "Cost after 0 iteration 2057.3175881569896\n",
      "Cost after 100 iteration 22.361470355353003\n",
      "Cost after 200 iteration 1.0771066764849466\n",
      "Cost after 300 iteration 1.0734220197152542\n",
      "Cost after 400 iteration 1.0697735328004252\n",
      "Cost after 500 iteration 13.477521010671495\n",
      "Cost after 600 iteration 1.1509561119276988\n",
      "Cost after 700 iteration 1.1465331042017757\n",
      "Cost after 800 iteration 1.1421536520883488\n",
      "Cost after 900 iteration 1.1378180230513975\n",
      "Cost after 1000 iteration 1.1335250759378404\n",
      "Cost after 1100 iteration 1.1292750868865553\n",
      "Cost after 1200 iteration 1.1250669233772836\n",
      "Cost after 1300 iteration 1.1209008700520375\n",
      "Cost after 1400 iteration 1.1167758028550017\n",
      "Cost after 1500 iteration 1.1126920147629182\n",
      "Cost after 1600 iteration 1.108648390019354\n",
      "Cost after 1700 iteration 1.104645229770663\n",
      "Cost after 1800 iteration 1.1006814263979836\n",
      "Cost after 1900 iteration 1.0967572890553907\n",
      "Cost after 2000 iteration 1.0928717181029688\n",
      "Cost after 2100 iteration 1.089025030543779\n",
      "Cost after 2200 iteration 1.0852161345613482\n",
      "Cost after 2300 iteration 1.081445354852085\n",
      "Cost after 2400 iteration 1.0777116072705104\n",
      "Cost after 2500 iteration 1.0740152240537768\n",
      "Cost after 2600 iteration 1.0703551285779478\n",
      "Cost after 2700 iteration 10.50484799241384\n",
      "Cost after 2800 iteration 1.1517777119478658\n",
      "Cost after 2900 iteration 1.1473401059981303\n",
      "Cost after 3000 iteration 1.1429469045263843\n",
      "Cost after 3100 iteration 1.1385976635870338\n",
      "Cost after 3200 iteration 1.1342912412322874\n",
      "Cost after 3300 iteration 1.1300279116704484\n",
      "Cost after 3400 iteration 1.1258065416132192\n",
      "Cost after 3500 iteration 1.1216274137988174\n",
      "Cost after 3600 iteration 1.1174894034295315\n",
      "Cost after 3700 iteration 1.113392801604568\n",
      "Cost after 3800 iteration 1.1093364918512236\n",
      "Cost after 3900 iteration 1.105320773464065\n",
      "Cost after 4000 iteration 1.101344538133082\n",
      "Cost after 4100 iteration 1.0974080931858075\n",
      "Cost after 4200 iteration 1.0935103383158027\n",
      "Cost after 4300 iteration 1.0896515887243439\n",
      "Cost after 4400 iteration 1.0858307519525738\n",
      "Cost after 4500 iteration 1.0820481509193929\n",
      "Cost after 4600 iteration 1.0783027008606016\n",
      "Cost after 4700 iteration 1.0745947322596496\n",
      "Cost after 4800 iteration 1.0709231678970788\n",
      "Cost after 4900 iteration 1.0672883456707933\n",
      "Cost after 5000 iteration 1.1526066977621952\n",
      "Cost after 5100 iteration 1.1481558297382626\n",
      "Cost after 5200 iteration 1.1437487969689002\n",
      "Cost after 5300 iteration 1.1393858629948286\n",
      "Cost after 5400 iteration 1.1350658850651616\n",
      "Cost after 5500 iteration 1.1307891354502948\n",
      "Cost after 5600 iteration 1.1265544800856626\n",
      "Cost after 5700 iteration 1.1223621997985063\n",
      "Cost after 5800 iteration 1.1182111690411456\n",
      "Cost after 5900 iteration 1.1141016770282155\n",
      "Cost after 6000 iteration 1.1100326065628199\n",
      "Cost after 6100 iteration 1.1060042550808493\n",
      "Cost after 6200 iteration 1.1020155135733678\n",
      "Cost after 6300 iteration 1.0980666875346219\n",
      "Cost after 6400 iteration 1.0941566759840176\n",
      "Cost after 6500 iteration 1.0902857923144393\n",
      "Cost after 6600 iteration 1.0864529434171568\n",
      "Cost after 6700 iteration 1.082658450427091\n",
      "Cost after 6800 iteration 1.0789012279539727\n",
      "Cost after 6900 iteration 1.0751816047212104\n",
      "Cost after 7000 iteration 1.0714985029066098\n",
      "Cost after 7100 iteration 1.0678522586715105\n",
      "Cost after 7200 iteration 1.1534385848150668\n",
      "Cost after 7300 iteration 1.1489737271878373\n",
      "Cost after 7400 iteration 1.1445528452295664\n",
      "Cost after 7500 iteration 1.1401762005140976\n",
      "Cost after 7600 iteration 1.135842649485213\n",
      "Cost after 7700 iteration 1.131552462473936\n",
      "Cost after 7800 iteration 1.1273045046372323\n",
      "Cost after 7900 iteration 1.1230990548899409\n",
      "Cost after 8000 iteration 1.118934986932242\n",
      "Cost after 8100 iteration 1.1148125880928135\n",
      "Cost after 8200 iteration 1.1107307404484323\n",
      "Cost after 8300 iteration 1.1066897395749573\n",
      "Cost after 8400 iteration 1.1026884757624278\n",
      "Cost after 8500 iteration 1.0987272526704848\n",
      "Cost after 8600 iteration 1.0948049686423118\n",
      "Cost after 8700 iteration 1.0909219352611192\n",
      "Cost after 8800 iteration 1.0870770587662668\n",
      "Cost after 8900 iteration 1.0832706585074463\n",
      "Cost after 9000 iteration 1.0795016484663125\n",
      "Cost after 9100 iteration 1.0757703556050184\n",
      "Cost after 9200 iteration 1.072075701496658\n",
      "Cost after 9300 iteration 1.068418020564823\n",
      "Cost after 9400 iteration 8.75746998713806\n",
      "Cost after 9500 iteration 1.149791759257753\n",
      "Cost after 9600 iteration 1.145357031334985\n",
      "Cost after 9700 iteration 1.140966679067294\n",
      "Cost after 9800 iteration 1.1366195580930762\n",
      "Cost after 9900 iteration 1.1323159368048403\n"
     ]
    }
   ],
   "source": [
    "steps = 10000\n",
    "lr = 0.001\n",
    "c = 1000\n",
    "N = y.shape[1]\n",
    "print('Initial cost', cost_function(x,y,w,c))\n",
    "for step in range(steps):\n",
    "    w = w- lr/N*grads(x,y,w,c)\n",
    "    if(step %100 == 0):\n",
    "        print('Cost after',step,'iteration',cost_function(x,y,w,c))"
   ]
  },
  {
   "cell_type": "code",
   "execution_count": 17,
   "metadata": {},
   "outputs": [
    {
     "data": {
      "text/plain": [
       "array([[-1.47356942],\n",
       "       [ 1.70869563]])"
      ]
     },
     "execution_count": 17,
     "metadata": {},
     "output_type": "execute_result"
    }
   ],
   "source": [
    "w"
   ]
  },
  {
   "cell_type": "code",
   "execution_count": 18,
   "metadata": {},
   "outputs": [
    {
     "name": "stdout",
     "output_type": "stream",
     "text": [
      "[[0.0, 0.0], array([6, 6])]\n"
     ]
    },
    {
     "data": {
      "image/png": "[encoded data removed]",
      "text/plain": [
       "<Figure size 432x288 with 1 Axes>"
      ]
     },
     "metadata": {
      "needs_background": "light"
     },
     "output_type": "display_data"
    }
   ],
   "source": [
    "plot(x,y,w,1,1,correct = None)"
   ]
  },
  {
   "cell_type": "code",
   "execution_count": null,
   "metadata": {},
   "outputs": [],
   "source": []
  }
 ],
 "metadata": {
  "kernelspec": {
   "display_name": "Python 3",
   "language": "python",
   "name": "python3"
  },
  "language_info": {
   "codemirror_mode": {
    "name": "ipython",
    "version": 3
   },
   "file_extension": ".py",
   "mimetype": "text/x-python",
   "name": "python",
   "nbconvert_exporter": "python",
   "pygments_lexer": "ipython3",
   "version": "3.7.6"
  }
 },
 "nbformat": 4,
 "nbformat_minor": 4
}
